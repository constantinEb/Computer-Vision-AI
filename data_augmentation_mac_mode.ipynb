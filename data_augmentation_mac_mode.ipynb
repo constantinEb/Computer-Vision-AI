{
 "cells": [
  {
   "cell_type": "code",
   "execution_count": 1,
   "metadata": {},
   "outputs": [],
   "source": [
    "# This notebook addresses class imbalance in the image classification project using:\n",
    "# - Class weighting\n",
    "# - Basic data augmentation\n",
    "# - Optional GPU acceleration on Mac via `MAC_MODE`\n",
    "# - Visualization of accuracy and loss\n"
   ]
  },
  {
   "cell_type": "code",
   "execution_count": 2,
   "metadata": {},
   "outputs": [],
   "source": [
    "import os\n",
    "import time\n",
    "\n",
    "import numpy as np\n",
    "import tensorflow as tf\n",
    "from tensorflow.keras.preprocessing.image import ImageDataGenerator\n",
    "from tensorflow.keras.applications import ResNet50\n",
    "from tensorflow.keras.models import Sequential\n",
    "from tensorflow.keras.layers import GlobalAveragePooling2D, Dense\n",
    "from tensorflow.keras.optimizers import Adam\n",
    "from tensorflow.keras.callbacks import TensorBoard\n",
    "from sklearn.utils.class_weight import compute_class_weight\n",
    "from sklearn.metrics import confusion_matrix, ConfusionMatrixDisplay\n",
    "import matplotlib.pyplot as plt\n",
    "from datetime import datetime"
   ]
  },
  {
   "cell_type": "code",
   "execution_count": 3,
   "metadata": {},
   "outputs": [
    {
     "name": "stdout",
     "output_type": "stream",
     "text": [
      "Mac mode enabled (Metal acceleration will be used if available).\n",
      "Num GPUs Available: 1\n"
     ]
    }
   ],
   "source": [
    "# Toggle for local Mac GPU support\n",
    "MAC_MODE = True  # Set to False for Windows/Linux\n",
    "\n",
    "if MAC_MODE:\n",
    "    os.environ['TF_CPP_MIN_LOG_LEVEL'] = '2'\n",
    "    print(\"Mac mode enabled (Metal acceleration will be used if available).\")\n",
    "    print(\"Num GPUs Available:\", len(tf.config.list_physical_devices('GPU')))\n",
    "else:\n",
    "    physical_devices = tf.config.list_physical_devices('GPU')\n",
    "    if physical_devices:\n",
    "        tf.config.experimental.set_memory_growth(physical_devices[0], True)\n",
    "        print(f\"Using GPU: {physical_devices[0].name}\")\n",
    "    else:\n",
    "        print(\"No GPU found. Running on CPU.\")\n"
   ]
  },
  {
   "cell_type": "code",
   "execution_count": 4,
   "metadata": {},
   "outputs": [],
   "source": [
    "def data_augmentation(): \n",
    "    data_dir = \"data_split\"\n",
    "    train_dir = os.path.join(data_dir, \"train\")\n",
    "    test_dir = os.path.join(data_dir, \"test\")\n",
    "\n",
    "    image_size = (224, 224)\n",
    "    batch_size = 32\n",
    "\n",
    "    train_gen = ImageDataGenerator(\n",
    "        rescale=1./255,\n",
    "        rotation_range=30,\n",
    "        width_shift_range=0.2,\n",
    "        height_shift_range=0.2,\n",
    "        shear_range=0.2,\n",
    "        zoom_range=0.2,\n",
    "        horizontal_flip=True,\n",
    "        fill_mode='nearest'\n",
    "    ).flow_from_directory(\n",
    "        train_dir, target_size=image_size, batch_size=batch_size, class_mode='categorical'\n",
    "    )\n",
    "\n",
    "    test_gen = ImageDataGenerator(rescale=1./255).flow_from_directory(\n",
    "        test_dir, target_size=image_size, batch_size=batch_size, class_mode='categorical'\n",
    "    )\n",
    "\n",
    "    return train_gen, test_gen\n"
   ]
  },
  {
   "cell_type": "code",
   "execution_count": 5,
   "metadata": {},
   "outputs": [],
   "source": [
    "def get_class_weights(train_gen):    \n",
    "    counts = train_gen.classes\n",
    "    weights = compute_class_weight(class_weight=\"balanced\", classes=np.unique(counts), y=counts)\n",
    "    class_weights = dict(zip(np.unique(counts), weights))\n",
    "    print(\"Computed class weights:\", class_weights)\n",
    "\n",
    "    return class_weights\n"
   ]
  },
  {
   "cell_type": "code",
   "execution_count": 10,
   "metadata": {},
   "outputs": [],
   "source": [
    "def run_training(train_gen, test_gen, class_weights, stage=1, data_dir=\"data_split\", image_size=(224, 224), batch_size=32):\n",
    "    \"\"\"\n",
    "    Run staged fine-tuning with ResNet50 and visualize results.\n",
    "    \n",
    "    Parameters:\n",
    "    - stage: 1, 2, or 3\n",
    "    - data_dir: must contain 'train' and 'test' subdirs\n",
    "    - image_size: tuple (H, W)\n",
    "    - batch_size: int\n",
    "\n",
    "    Returns:\n",
    "    - model: final trained model\n",
    "    \"\"\"\n",
    "    print(f\"tarting {stage}-stage training\")\n",
    "\n",
    "    \n",
    "\n",
    "    # Model\n",
    "    base_model = ResNet50(weights=\"imagenet\", include_top=False, input_shape=(*image_size, 3))\n",
    "    model = Sequential([base_model, GlobalAveragePooling2D(), Dense(3, activation=\"softmax\")])\n",
    "\n",
    "    def plot_history(history, label):\n",
    "        acc = history.history['accuracy']\n",
    "        val_acc = history.history['val_accuracy']\n",
    "        loss = history.history['loss']\n",
    "        val_loss = history.history['val_loss']\n",
    "        epochs = range(1, len(acc) + 1)\n",
    "\n",
    "        plt.figure(figsize=(12, 4))\n",
    "        plt.subplot(1, 2, 1)\n",
    "        plt.plot(epochs, acc, 'bo-', label='Train')\n",
    "        plt.plot(epochs, val_acc, 'ro-', label='Val')\n",
    "        plt.title(f'{label} - Accuracy')\n",
    "        plt.xlabel('Epoch')\n",
    "        plt.ylabel('Accuracy')\n",
    "        plt.legend()\n",
    "\n",
    "        plt.subplot(1, 2, 2)\n",
    "        plt.plot(epochs, loss, 'bo-', label='Train')\n",
    "        plt.plot(epochs, val_loss, 'ro-', label='Val')\n",
    "        plt.title(f'{label} - Loss')\n",
    "        plt.xlabel('Epoch')\n",
    "        plt.ylabel('Loss')\n",
    "        plt.legend()\n",
    "        plt.show()\n",
    "\n",
    "\n",
    "    #history_all = []\n",
    "\n",
    "    # STAGE 1: Train top layers only\n",
    "    if stage >= 1:\n",
    "        print(\"Stage 1: training top layers (frozen base)\")\n",
    "        base_model.trainable = False\n",
    "        model.compile(optimizer=Adam(1e-3), loss='categorical_crossentropy', metrics=['accuracy'])\n",
    "        hist = model.fit(train_gen, validation_data=test_gen, epochs=3, class_weight=class_weights)\n",
    "        #history_all.append(hist)\n",
    "        plot_history(hist, \"Stage 1\")\n",
    "\n",
    "    # STAGE 2: Fine-tune last 30 layers\n",
    "    if stage >= 2:\n",
    "        print(\"Stage 2: fine-tuning last 30 layers\")\n",
    "        base_model.trainable = True\n",
    "        for layer in base_model.layers[:-30]:\n",
    "            layer.trainable = False\n",
    "        model.compile(optimizer=Adam(1e-5), loss='categorical_crossentropy', metrics=['accuracy'])\n",
    "        hist = model.fit(train_gen, validation_data=test_gen, epochs=5, class_weight=class_weights)\n",
    "        #history_all.append(hist)\n",
    "        plot_history(hist, \"Stage 2\")\n",
    "\n",
    "    # STAGE 3: Fine-tune full model\n",
    "    if stage >= 3:\n",
    "        print(\"Stage 3: full model fine-tuning\")\n",
    "        for layer in base_model.layers:\n",
    "            layer.trainable = True\n",
    "        model.compile(optimizer=Adam(1e-6), loss='categorical_crossentropy', metrics=['accuracy'])\n",
    "        hist = model.fit(train_gen, validation_data=test_gen, epochs=5, class_weight=class_weights)\n",
    "        #history_all.append(hist)\n",
    "        plot_history(hist, \"Stage 3\")\n",
    "\n",
    "    # Confusion matrix on test set\n",
    "    print(\"Final Confusion Matrix:\")\n",
    "    y_true = test_gen.classes\n",
    "    y_pred = np.argmax(model.predict(test_gen), axis=1)\n",
    "    labels = list(test_gen.class_indices.keys())\n",
    "\n",
    "    cm = confusion_matrix(y_true, y_pred)\n",
    "    disp = ConfusionMatrixDisplay(confusion_matrix=cm, display_labels=labels)\n",
    "    disp.plot(cmap='Blues')\n",
    "    plt.xticks(rotation=20)\n",
    "    plt.title(\"Confusion Matrix\")\n",
    "    plt.grid(False)\n",
    "    plt.show()\n",
    "\n",
    "    return model\n"
   ]
  },
  {
   "cell_type": "markdown",
   "metadata": {},
   "source": [
    "## Transfer Learning and Timing"
   ]
  },
  {
   "cell_type": "code",
   "execution_count": null,
   "metadata": {},
   "outputs": [
    {
     "name": "stdout",
     "output_type": "stream",
     "text": [
      "tarting 1-stage training\n",
      "Found 4007 images belonging to 3 classes.\n",
      "Found 1861 images belonging to 3 classes.\n",
      "Computed class weights: {0: 6.742753623188406, 1: 3.714570858283433, 2: 0.38722430295464005}\n",
      "Stage 1: training top layers (frozen base)\n"
     ]
    },
    {
     "name": "stderr",
     "output_type": "stream",
     "text": [
      "/Users/daniel/miniconda3/envs/data_engineering/lib/python3.10/site-packages/keras/src/trainers/data_adapters/py_dataset_adapter.py:121: UserWarning: Your `PyDataset` class should call `super().__init__(**kwargs)` in its constructor. `**kwargs` can include `workers`, `use_multiprocessing`, `max_queue_size`. Do not pass these arguments to `fit()`, as they will be ignored.\n",
      "  self._warn_if_super_not_called()\n"
     ]
    },
    {
     "name": "stdout",
     "output_type": "stream",
     "text": [
      "Epoch 1/3\n",
      "\u001b[1m126/126\u001b[0m \u001b[32m━━━━━━━━━━━━━━━━━━━━\u001b[0m\u001b[37m\u001b[0m \u001b[1m30s\u001b[0m 210ms/step - accuracy: 0.2067 - loss: 1.1581 - val_accuracy: 0.0720 - val_loss: 1.1652\n",
      "Epoch 2/3\n",
      "\u001b[1m126/126\u001b[0m \u001b[32m━━━━━━━━━━━━━━━━━━━━\u001b[0m\u001b[37m\u001b[0m \u001b[1m24s\u001b[0m 189ms/step - accuracy: 0.1672 - loss: 1.1184 - val_accuracy: 0.1510 - val_loss: 1.1541\n",
      "Epoch 3/3\n",
      "\u001b[1m126/126\u001b[0m \u001b[32m━━━━━━━━━━━━━━━━━━━━\u001b[0m\u001b[37m\u001b[0m \u001b[1m23s\u001b[0m 185ms/step - accuracy: 0.3568 - loss: 1.0906 - val_accuracy: 0.6034 - val_loss: 0.9946\n"
     ]
    },
    {
     "data": {
      "image/png": "[encoded data removed]",
      "text/plain": [
       "<Figure size 1200x400 with 2 Axes>"
      ]
     },
     "metadata": {},
     "output_type": "display_data"
    },
    {
     "name": "stdout",
     "output_type": "stream",
     "text": [
      "Final Confusion Matrix:\n",
      "\u001b[1m59/59\u001b[0m \u001b[32m━━━━━━━━━━━━━━━━━━━━\u001b[0m\u001b[37m\u001b[0m \u001b[1m8s\u001b[0m 110ms/step\n"
     ]
    },
    {
     "data": {
      "image/png": "[encoded data removed]",
      "text/plain": [
       "<Figure size 640x480 with 2 Axes>"
      ]
     },
     "metadata": {},
     "output_type": "display_data"
    },
    {
     "name": "stdout",
     "output_type": "stream",
     "text": [
      "Training time: 87.23 seconds\n"
     ]
    }
   ],
   "source": [
    "train_gen, test_gen = data_augmentation()\n",
    "class_weights = get_class_weights(test_gen)\n",
    "\n",
    "\n",
    "start = time.time()\n",
    "model = run_training(train_gen, test_gen, class_weights, stage=1)\n",
    "print(\"Training time:\", round(time.time() - start, 2), \"seconds\")"
   ]
  },
  {
   "cell_type": "markdown",
   "metadata": {},
   "source": [
    "## Inference Time and Used Hardware"
   ]
  },
  {
   "cell_type": "code",
   "execution_count": 11,
   "metadata": {},
   "outputs": [
    {
     "name": "stdout",
     "output_type": "stream",
     "text": [
      "Device: [PhysicalDevice(name='/physical_device:CPU:0', device_type='CPU'), PhysicalDevice(name='/physical_device:GPU:0', device_type='GPU')]\n",
      "Found 4007 images belonging to 3 classes.\n",
      "Found 1861 images belonging to 3 classes.\n"
     ]
    },
    {
     "name": "stderr",
     "output_type": "stream",
     "text": [
      "/Users/daniel/miniconda3/envs/data_engineering/lib/python3.10/site-packages/keras/src/trainers/data_adapters/py_dataset_adapter.py:121: UserWarning: Your `PyDataset` class should call `super().__init__(**kwargs)` in its constructor. `**kwargs` can include `workers`, `use_multiprocessing`, `max_queue_size`. Do not pass these arguments to `fit()`, as they will be ignored.\n",
      "  self._warn_if_super_not_called()\n"
     ]
    },
    {
     "name": "stdout",
     "output_type": "stream",
     "text": [
      "\u001b[1m59/59\u001b[0m \u001b[32m━━━━━━━━━━━━━━━━━━━━\u001b[0m\u001b[37m\u001b[0m \u001b[1m4s\u001b[0m 72ms/step\n",
      "Inference time on test set: 4.42 seconds\n"
     ]
    }
   ],
   "source": [
    "print(\"Device:\", tf.config.list_physical_devices())\n",
    "\n",
    "\n",
    "start = time.time()\n",
    "model.predict(test_gen, verbose=1)\n",
    "print(\"Inference time on test set:\", round(time.time() - start, 2), \"seconds\")"
   ]
  },
  {
   "cell_type": "markdown",
   "metadata": {},
   "source": [
    "## Model Parameters"
   ]
  },
  {
   "cell_type": "code",
   "execution_count": 43,
   "metadata": {},
   "outputs": [
    {
     "data": {
      "text/html": [
       "<pre style=\"white-space:pre;overflow-x:auto;line-height:normal;font-family:Menlo,'DejaVu Sans Mono',consolas,'Courier New',monospace\"><span style=\"font-weight: bold\">Model: \"sequential_4\"</span>\n",
       "</pre>\n"
      ],
      "text/plain": [
       "\u001b[1mModel: \"sequential_4\"\u001b[0m\n"
      ]
     },
     "metadata": {},
     "output_type": "display_data"
    },
    {
     "data": {
      "text/html": [
       "<pre style=\"white-space:pre;overflow-x:auto;line-height:normal;font-family:Menlo,'DejaVu Sans Mono',consolas,'Courier New',monospace\">┏━━━━━━━━━━━━━━━━━━━━━━━━━━━━━━━━━┳━━━━━━━━━━━━━━━━━━━━━━━━┳━━━━━━━━━━━━━━━┓\n",
       "┃<span style=\"font-weight: bold\"> Layer (type)                    </span>┃<span style=\"font-weight: bold\"> Output Shape           </span>┃<span style=\"font-weight: bold\">       Param # </span>┃\n",
       "┡━━━━━━━━━━━━━━━━━━━━━━━━━━━━━━━━━╇━━━━━━━━━━━━━━━━━━━━━━━━╇━━━━━━━━━━━━━━━┩\n",
       "│ resnet50 (<span style=\"color: #0087ff; text-decoration-color: #0087ff\">Functional</span>)           │ (<span style=\"color: #00d7ff; text-decoration-color: #00d7ff\">None</span>, <span style=\"color: #00af00; text-decoration-color: #00af00\">7</span>, <span style=\"color: #00af00; text-decoration-color: #00af00\">7</span>, <span style=\"color: #00af00; text-decoration-color: #00af00\">2048</span>)     │    <span style=\"color: #00af00; text-decoration-color: #00af00\">23,587,712</span> │\n",
       "├─────────────────────────────────┼────────────────────────┼───────────────┤\n",
       "│ global_average_pooling2d_4      │ (<span style=\"color: #00d7ff; text-decoration-color: #00d7ff\">None</span>, <span style=\"color: #00af00; text-decoration-color: #00af00\">2048</span>)           │             <span style=\"color: #00af00; text-decoration-color: #00af00\">0</span> │\n",
       "│ (<span style=\"color: #0087ff; text-decoration-color: #0087ff\">GlobalAveragePooling2D</span>)        │                        │               │\n",
       "├─────────────────────────────────┼────────────────────────┼───────────────┤\n",
       "│ dense_4 (<span style=\"color: #0087ff; text-decoration-color: #0087ff\">Dense</span>)                 │ (<span style=\"color: #00d7ff; text-decoration-color: #00d7ff\">None</span>, <span style=\"color: #00af00; text-decoration-color: #00af00\">3</span>)              │         <span style=\"color: #00af00; text-decoration-color: #00af00\">6,147</span> │\n",
       "└─────────────────────────────────┴────────────────────────┴───────────────┘\n",
       "</pre>\n"
      ],
      "text/plain": [
       "┏━━━━━━━━━━━━━━━━━━━━━━━━━━━━━━━━━┳━━━━━━━━━━━━━━━━━━━━━━━━┳━━━━━━━━━━━━━━━┓\n",
       "┃\u001b[1m \u001b[0m\u001b[1mLayer (type)                   \u001b[0m\u001b[1m \u001b[0m┃\u001b[1m \u001b[0m\u001b[1mOutput Shape          \u001b[0m\u001b[1m \u001b[0m┃\u001b[1m \u001b[0m\u001b[1m      Param #\u001b[0m\u001b[1m \u001b[0m┃\n",
       "┡━━━━━━━━━━━━━━━━━━━━━━━━━━━━━━━━━╇━━━━━━━━━━━━━━━━━━━━━━━━╇━━━━━━━━━━━━━━━┩\n",
       "│ resnet50 (\u001b[38;5;33mFunctional\u001b[0m)           │ (\u001b[38;5;45mNone\u001b[0m, \u001b[38;5;34m7\u001b[0m, \u001b[38;5;34m7\u001b[0m, \u001b[38;5;34m2048\u001b[0m)     │    \u001b[38;5;34m23,587,712\u001b[0m │\n",
       "├─────────────────────────────────┼────────────────────────┼───────────────┤\n",
       "│ global_average_pooling2d_4      │ (\u001b[38;5;45mNone\u001b[0m, \u001b[38;5;34m2048\u001b[0m)           │             \u001b[38;5;34m0\u001b[0m │\n",
       "│ (\u001b[38;5;33mGlobalAveragePooling2D\u001b[0m)        │                        │               │\n",
       "├─────────────────────────────────┼────────────────────────┼───────────────┤\n",
       "│ dense_4 (\u001b[38;5;33mDense\u001b[0m)                 │ (\u001b[38;5;45mNone\u001b[0m, \u001b[38;5;34m3\u001b[0m)              │         \u001b[38;5;34m6,147\u001b[0m │\n",
       "└─────────────────────────────────┴────────────────────────┴───────────────┘\n"
      ]
     },
     "metadata": {},
     "output_type": "display_data"
    },
    {
     "data": {
      "text/html": [
       "<pre style=\"white-space:pre;overflow-x:auto;line-height:normal;font-family:Menlo,'DejaVu Sans Mono',consolas,'Courier New',monospace\"><span style=\"font-weight: bold\"> Total params: </span><span style=\"color: #00af00; text-decoration-color: #00af00\">70,675,339</span> (269.61 MB)\n",
       "</pre>\n"
      ],
      "text/plain": [
       "\u001b[1m Total params: \u001b[0m\u001b[38;5;34m70,675,339\u001b[0m (269.61 MB)\n"
      ]
     },
     "metadata": {},
     "output_type": "display_data"
    },
    {
     "data": {
      "text/html": [
       "<pre style=\"white-space:pre;overflow-x:auto;line-height:normal;font-family:Menlo,'DejaVu Sans Mono',consolas,'Courier New',monospace\"><span style=\"font-weight: bold\"> Trainable params: </span><span style=\"color: #00af00; text-decoration-color: #00af00\">23,540,739</span> (89.80 MB)\n",
       "</pre>\n"
      ],
      "text/plain": [
       "\u001b[1m Trainable params: \u001b[0m\u001b[38;5;34m23,540,739\u001b[0m (89.80 MB)\n"
      ]
     },
     "metadata": {},
     "output_type": "display_data"
    },
    {
     "data": {
      "text/html": [
       "<pre style=\"white-space:pre;overflow-x:auto;line-height:normal;font-family:Menlo,'DejaVu Sans Mono',consolas,'Courier New',monospace\"><span style=\"font-weight: bold\"> Non-trainable params: </span><span style=\"color: #00af00; text-decoration-color: #00af00\">53,120</span> (207.50 KB)\n",
       "</pre>\n"
      ],
      "text/plain": [
       "\u001b[1m Non-trainable params: \u001b[0m\u001b[38;5;34m53,120\u001b[0m (207.50 KB)\n"
      ]
     },
     "metadata": {},
     "output_type": "display_data"
    },
    {
     "data": {
      "text/html": [
       "<pre style=\"white-space:pre;overflow-x:auto;line-height:normal;font-family:Menlo,'DejaVu Sans Mono',consolas,'Courier New',monospace\"><span style=\"font-weight: bold\"> Optimizer params: </span><span style=\"color: #00af00; text-decoration-color: #00af00\">47,081,480</span> (179.60 MB)\n",
       "</pre>\n"
      ],
      "text/plain": [
       "\u001b[1m Optimizer params: \u001b[0m\u001b[38;5;34m47,081,480\u001b[0m (179.60 MB)\n"
      ]
     },
     "metadata": {},
     "output_type": "display_data"
    }
   ],
   "source": [
    "model.summary()"
   ]
  },
  {
   "cell_type": "markdown",
   "metadata": {},
   "source": [
    "## Categories most confused\n",
    "- The model most frequently confused all classes with \"muffin\", as clearly shown in the confusion matrix. This is due to severe data imbalance."
   ]
  },
  {
   "cell_type": "code",
   "execution_count": 19,
   "metadata": {},
   "outputs": [],
   "source": [
    "import numpy as np\n",
    "import matplotlib.pyplot as plt\n",
    "import tensorflow as tf\n",
    "import cv2\n",
    "from tensorflow.keras.preprocessing import image\n",
    "from tensorflow.keras.models import Model\n",
    "\n",
    "def get_img_array(img_path, size=(224, 224)):\n",
    "    img = image.load_img(img_path, target_size=size)\n",
    "    array = image.img_to_array(img)\n",
    "    array = np.expand_dims(array, axis=0)\n",
    "    return array / 255.0\n",
    "\n",
    "def make_gradcam_heatmap(img_array, model, last_conv_layer_name, pred_index=None):\n",
    "    # Extract ResNet50 base\n",
    "    base_model = model.layers[0]  # assuming ResNet50 is first in Sequential\n",
    "    \n",
    "    # Get conv layer\n",
    "    conv_layer = base_model.get_layer(last_conv_layer_name)\n",
    "\n",
    "    # Build model from ResNet input to conv output & full model output\n",
    "    inputs = tf.keras.Input(shape=(224, 224, 3))\n",
    "    x = base_model(inputs, training=False)\n",
    "    x = model.layers[1](x)  # GAP\n",
    "    output = model.layers[2](x)  # Dense\n",
    "    grad_model = Model(inputs=inputs, outputs=[conv_layer.output, output])\n",
    "\n",
    "    # Forward pass + tape\n",
    "    with tf.GradientTape() as tape:\n",
    "        conv_outputs, predictions = grad_model(img_array)\n",
    "        if pred_index is None:\n",
    "            pred_index = tf.argmax(predictions[0])\n",
    "        class_output = predictions[:, pred_index]\n",
    "\n",
    "    grads = tape.gradient(class_output, conv_outputs)\n",
    "    pooled_grads = tf.reduce_mean(grads, axis=(0, 1, 2))\n",
    "    conv_outputs = conv_outputs[0]\n",
    "    heatmap = conv_outputs @ pooled_grads[..., tf.newaxis]\n",
    "    heatmap = tf.squeeze(heatmap)\n",
    "    heatmap = np.maximum(heatmap, 0) / (tf.reduce_max(heatmap) + 1e-10)\n",
    "    return heatmap.numpy(), pred_index.numpy()\n",
    "\n",
    "\n",
    "\n",
    "def display_gradcam(img_path, model, class_names, last_conv_layer=\"conv5_block3_out\", image_size=(224,224)):\n",
    "    img_array = get_img_array(img_path, image_size)\n",
    "    heatmap, pred_index = make_gradcam_heatmap(img_array, model, last_conv_layer)\n",
    "\n",
    "    # Original image\n",
    "    img = cv2.imread(img_path)\n",
    "    img = cv2.resize(img, image_size)\n",
    "    heatmap_resized = cv2.resize(heatmap, (img.shape[1], img.shape[0]))\n",
    "    heatmap_color = cv2.applyColorMap(np.uint8(255 * heatmap_resized), cv2.COLORMAP_JET)\n",
    "    overlay = cv2.addWeighted(img, 0.6, heatmap_color, 0.4, 0)\n",
    "\n",
    "    # Show result\n",
    "    pred_label = class_names[pred_index]\n",
    "    plt.figure(figsize=(10, 4))\n",
    "    plt.subplot(1, 2, 1)\n",
    "    plt.imshow(cv2.cvtColor(img, cv2.COLOR_BGR2RGB))\n",
    "    plt.title(\"Original Image\")\n",
    "    plt.axis(\"off\")\n",
    "\n",
    "    plt.subplot(1, 2, 2)\n",
    "    plt.imshow(cv2.cvtColor(overlay, cv2.COLOR_BGR2RGB))\n",
    "    plt.title(f\"Grad-CAM: {pred_label}\")\n",
    "    plt.axis(\"off\")\n",
    "    plt.show()\n"
   ]
  },
  {
   "cell_type": "code",
   "execution_count": 20,
   "metadata": {},
   "outputs": [
    {
     "ename": "KeyError",
     "evalue": "'Exception encountered when calling Functional.call().\\n\\n\\x1b[1m13528662368\\x1b[0m\\n\\nArguments received by Functional.call():\\n  • inputs=array([[[[0.84705883, 0.827451  , 0.8156863 ],\\n         [0.8509804 , 0.83137256, 0.81960785],\\n         [0.8509804 , 0.83137256, 0.81960785],\\n         ...,\\n         [0.84313726, 0.8235294 , 0.8117647 ],\\n         [0.84313726, 0.8235294 , 0.8117647 ],\\n         [0.84313726, 0.8235294 , 0.8117647 ]],\\n\\n        [[0.84705883, 0.827451  , 0.8156863 ],\\n         [0.8509804 , 0.83137256, 0.81960785],\\n         [0.8509804 , 0.83137256, 0.81960785],\\n         ...,\\n         [0.84313726, 0.8235294 , 0.8117647 ],\\n         [0.84313726, 0.8235294 , 0.8117647 ],\\n         [0.84313726, 0.8235294 , 0.8117647 ]],\\n\\n        [[0.84705883, 0.827451  , 0.8156863 ],\\n         [0.8509804 , 0.83137256, 0.81960785],\\n         [0.8509804 , 0.83137256, 0.81960785],\\n         ...,\\n         [0.84313726, 0.8235294 , 0.8117647 ],\\n         [0.84313726, 0.8235294 , 0.8117647 ],\\n         [0.84313726, 0.8235294 , 0.8117647 ]],\\n\\n        ...,\\n\\n        [[0.94509804, 0.827451  , 0.7176471 ],\\n         [0.94509804, 0.827451  , 0.7176471 ],\\n         [0.9372549 , 0.83137256, 0.7176471 ],\\n         ...,\\n         [0.9490196 , 0.827451  , 0.7058824 ],\\n         [0.9372549 , 0.8156863 , 0.69411767],\\n         [0.9372549 , 0.8156863 , 0.69411767]],\\n\\n        [[0.94509804, 0.827451  , 0.7176471 ],\\n         [0.94509804, 0.827451  , 0.7176471 ],\\n         [0.9372549 , 0.83137256, 0.7176471 ],\\n         ...,\\n         [0.9529412 , 0.83137256, 0.70980394],\\n         [0.9372549 , 0.8156863 , 0.69411767],\\n         [0.9372549 , 0.8156863 , 0.69411767]],\\n\\n        [[0.94509804, 0.827451  , 0.7176471 ],\\n         [0.94509804, 0.827451  , 0.7176471 ],\\n         [0.9372549 , 0.83137256, 0.7176471 ],\\n         ...,\\n         [0.9411765 , 0.81960785, 0.69803923],\\n         [0.9372549 , 0.8156863 , 0.69411767],\\n         [0.9372549 , 0.8156863 , 0.69411767]]]], dtype=float32)\\n  • training=None\\n  • mask=None'",
     "output_type": "error",
     "traceback": [
      "\u001b[0;31m---------------------------------------------------------------------------\u001b[0m",
      "\u001b[0;31mKeyError\u001b[0m                                  Traceback (most recent call last)",
      "Cell \u001b[0;32mIn[20], line 2\u001b[0m\n\u001b[1;32m      1\u001b[0m class_names \u001b[38;5;241m=\u001b[39m \u001b[38;5;28mlist\u001b[39m(test_gen\u001b[38;5;241m.\u001b[39mclass_indices\u001b[38;5;241m.\u001b[39mkeys())\n\u001b[0;32m----> 2\u001b[0m \u001b[43mdisplay_gradcam\u001b[49m\u001b[43m(\u001b[49m\u001b[38;5;124;43m\"\u001b[39;49m\u001b[38;5;124;43madditional_images/burrito.jpeg\u001b[39;49m\u001b[38;5;124;43m\"\u001b[39;49m\u001b[43m,\u001b[49m\u001b[43m \u001b[49m\u001b[43mmodel\u001b[49m\u001b[43m,\u001b[49m\u001b[43m \u001b[49m\u001b[43mclass_names\u001b[49m\u001b[43m)\u001b[49m\n",
      "Cell \u001b[0;32mIn[19], line 47\u001b[0m, in \u001b[0;36mdisplay_gradcam\u001b[0;34m(img_path, model, class_names, last_conv_layer, image_size)\u001b[0m\n\u001b[1;32m     45\u001b[0m \u001b[38;5;28;01mdef\u001b[39;00m \u001b[38;5;21mdisplay_gradcam\u001b[39m(img_path, model, class_names, last_conv_layer\u001b[38;5;241m=\u001b[39m\u001b[38;5;124m\"\u001b[39m\u001b[38;5;124mconv5_block3_out\u001b[39m\u001b[38;5;124m\"\u001b[39m, image_size\u001b[38;5;241m=\u001b[39m(\u001b[38;5;241m224\u001b[39m,\u001b[38;5;241m224\u001b[39m)):\n\u001b[1;32m     46\u001b[0m     img_array \u001b[38;5;241m=\u001b[39m get_img_array(img_path, image_size)\n\u001b[0;32m---> 47\u001b[0m     heatmap, pred_index \u001b[38;5;241m=\u001b[39m \u001b[43mmake_gradcam_heatmap\u001b[49m\u001b[43m(\u001b[49m\u001b[43mimg_array\u001b[49m\u001b[43m,\u001b[49m\u001b[43m \u001b[49m\u001b[43mmodel\u001b[49m\u001b[43m,\u001b[49m\u001b[43m \u001b[49m\u001b[43mlast_conv_layer\u001b[49m\u001b[43m)\u001b[49m\n\u001b[1;32m     49\u001b[0m     \u001b[38;5;66;03m# Original image\u001b[39;00m\n\u001b[1;32m     50\u001b[0m     img \u001b[38;5;241m=\u001b[39m cv2\u001b[38;5;241m.\u001b[39mimread(img_path)\n",
      "Cell \u001b[0;32mIn[19], line 30\u001b[0m, in \u001b[0;36mmake_gradcam_heatmap\u001b[0;34m(img_array, model, last_conv_layer_name, pred_index)\u001b[0m\n\u001b[1;32m     28\u001b[0m \u001b[38;5;66;03m# Forward pass + tape\u001b[39;00m\n\u001b[1;32m     29\u001b[0m \u001b[38;5;28;01mwith\u001b[39;00m tf\u001b[38;5;241m.\u001b[39mGradientTape() \u001b[38;5;28;01mas\u001b[39;00m tape:\n\u001b[0;32m---> 30\u001b[0m     conv_outputs, predictions \u001b[38;5;241m=\u001b[39m \u001b[43mgrad_model\u001b[49m\u001b[43m(\u001b[49m\u001b[43mimg_array\u001b[49m\u001b[43m)\u001b[49m\n\u001b[1;32m     31\u001b[0m     \u001b[38;5;28;01mif\u001b[39;00m pred_index \u001b[38;5;129;01mis\u001b[39;00m \u001b[38;5;28;01mNone\u001b[39;00m:\n\u001b[1;32m     32\u001b[0m         pred_index \u001b[38;5;241m=\u001b[39m tf\u001b[38;5;241m.\u001b[39margmax(predictions[\u001b[38;5;241m0\u001b[39m])\n",
      "File \u001b[0;32m~/miniconda3/envs/data_engineering/lib/python3.10/site-packages/keras/src/utils/traceback_utils.py:122\u001b[0m, in \u001b[0;36mfilter_traceback.<locals>.error_handler\u001b[0;34m(*args, **kwargs)\u001b[0m\n\u001b[1;32m    119\u001b[0m     filtered_tb \u001b[38;5;241m=\u001b[39m _process_traceback_frames(e\u001b[38;5;241m.\u001b[39m__traceback__)\n\u001b[1;32m    120\u001b[0m     \u001b[38;5;66;03m# To get the full stack trace, call:\u001b[39;00m\n\u001b[1;32m    121\u001b[0m     \u001b[38;5;66;03m# `keras.config.disable_traceback_filtering()`\u001b[39;00m\n\u001b[0;32m--> 122\u001b[0m     \u001b[38;5;28;01mraise\u001b[39;00m e\u001b[38;5;241m.\u001b[39mwith_traceback(filtered_tb) \u001b[38;5;28;01mfrom\u001b[39;00m \u001b[38;5;28;01mNone\u001b[39;00m\n\u001b[1;32m    123\u001b[0m \u001b[38;5;28;01mfinally\u001b[39;00m:\n\u001b[1;32m    124\u001b[0m     \u001b[38;5;28;01mdel\u001b[39;00m filtered_tb\n",
      "File \u001b[0;32m~/miniconda3/envs/data_engineering/lib/python3.10/site-packages/keras/src/ops/function.py:179\u001b[0m, in \u001b[0;36mFunction._run_through_graph\u001b[0;34m(self, inputs, operation_fn, call_fn)\u001b[0m\n\u001b[1;32m    177\u001b[0m output_tensors \u001b[38;5;241m=\u001b[39m []\n\u001b[1;32m    178\u001b[0m \u001b[38;5;28;01mfor\u001b[39;00m x \u001b[38;5;129;01min\u001b[39;00m \u001b[38;5;28mself\u001b[39m\u001b[38;5;241m.\u001b[39moutputs:\n\u001b[0;32m--> 179\u001b[0m     output_tensors\u001b[38;5;241m.\u001b[39mappend(\u001b[43mtensor_dict\u001b[49m\u001b[43m[\u001b[49m\u001b[38;5;28;43mid\u001b[39;49m\u001b[43m(\u001b[49m\u001b[43mx\u001b[49m\u001b[43m)\u001b[49m\u001b[43m]\u001b[49m)\n\u001b[1;32m    181\u001b[0m \u001b[38;5;28;01mreturn\u001b[39;00m tree\u001b[38;5;241m.\u001b[39mpack_sequence_as(\u001b[38;5;28mself\u001b[39m\u001b[38;5;241m.\u001b[39m_outputs_struct, output_tensors)\n",
      "\u001b[0;31mKeyError\u001b[0m: 'Exception encountered when calling Functional.call().\\n\\n\\x1b[1m13528662368\\x1b[0m\\n\\nArguments received by Functional.call():\\n  • inputs=array([[[[0.84705883, 0.827451  , 0.8156863 ],\\n         [0.8509804 , 0.83137256, 0.81960785],\\n         [0.8509804 , 0.83137256, 0.81960785],\\n         ...,\\n         [0.84313726, 0.8235294 , 0.8117647 ],\\n         [0.84313726, 0.8235294 , 0.8117647 ],\\n         [0.84313726, 0.8235294 , 0.8117647 ]],\\n\\n        [[0.84705883, 0.827451  , 0.8156863 ],\\n         [0.8509804 , 0.83137256, 0.81960785],\\n         [0.8509804 , 0.83137256, 0.81960785],\\n         ...,\\n         [0.84313726, 0.8235294 , 0.8117647 ],\\n         [0.84313726, 0.8235294 , 0.8117647 ],\\n         [0.84313726, 0.8235294 , 0.8117647 ]],\\n\\n        [[0.84705883, 0.827451  , 0.8156863 ],\\n         [0.8509804 , 0.83137256, 0.81960785],\\n         [0.8509804 , 0.83137256, 0.81960785],\\n         ...,\\n         [0.84313726, 0.8235294 , 0.8117647 ],\\n         [0.84313726, 0.8235294 , 0.8117647 ],\\n         [0.84313726, 0.8235294 , 0.8117647 ]],\\n\\n        ...,\\n\\n        [[0.94509804, 0.827451  , 0.7176471 ],\\n         [0.94509804, 0.827451  , 0.7176471 ],\\n         [0.9372549 , 0.83137256, 0.7176471 ],\\n         ...,\\n         [0.9490196 , 0.827451  , 0.7058824 ],\\n         [0.9372549 , 0.8156863 , 0.69411767],\\n         [0.9372549 , 0.8156863 , 0.69411767]],\\n\\n        [[0.94509804, 0.827451  , 0.7176471 ],\\n         [0.94509804, 0.827451  , 0.7176471 ],\\n         [0.9372549 , 0.83137256, 0.7176471 ],\\n         ...,\\n         [0.9529412 , 0.83137256, 0.70980394],\\n         [0.9372549 , 0.8156863 , 0.69411767],\\n         [0.9372549 , 0.8156863 , 0.69411767]],\\n\\n        [[0.94509804, 0.827451  , 0.7176471 ],\\n         [0.94509804, 0.827451  , 0.7176471 ],\\n         [0.9372549 , 0.83137256, 0.7176471 ],\\n         ...,\\n         [0.9411765 , 0.81960785, 0.69803923],\\n         [0.9372549 , 0.8156863 , 0.69411767],\\n         [0.9372549 , 0.8156863 , 0.69411767]]]], dtype=float32)\\n  • training=None\\n  • mask=None'"
     ]
    }
   ],
   "source": [
    "\n",
    "\n",
    "class_names = list(test_gen.class_indices.keys())\n",
    "display_gradcam(\"additional_images/burrito.jpeg\", model, class_names)\n"
   ]
  },
  {
   "cell_type": "code",
   "execution_count": null,
   "metadata": {},
   "outputs": [],
   "source": []
  }
 ],
 "metadata": {
  "kernelspec": {
   "display_name": "data_engineering",
   "language": "python",
   "name": "python3"
  },
  "language_info": {
   "codemirror_mode": {
    "name": "ipython",
    "version": 3
   },
   "file_extension": ".py",
   "mimetype": "text/x-python",
   "name": "python",
   "nbconvert_exporter": "python",
   "pygments_lexer": "ipython3",
   "version": "3.10.14"
  }
 },
 "nbformat": 4,
 "nbformat_minor": 2
}
