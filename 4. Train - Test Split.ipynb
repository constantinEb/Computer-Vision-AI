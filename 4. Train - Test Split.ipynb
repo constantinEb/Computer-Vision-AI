{
 "cells": [
  {
   "cell_type": "markdown",
   "id": "79b090c9-dd3d-472a-895f-b7fcd9946d5d",
   "metadata": {},
   "source": [
    "### 4. Train - Test Split"
   ]
  },
  {
   "cell_type": "code",
   "execution_count": 7,
   "id": "fc7621bc-9960-487c-9029-0bd3292319f4",
   "metadata": {},
   "outputs": [],
   "source": [
    "import os\n",
    "import shutil\n",
    "import random\n",
    "from pathlib import Path"
   ]
  },
  {
   "cell_type": "code",
   "execution_count": 8,
   "id": "5bc257af-931b-4bfb-9229-5bbf1b1544f4",
   "metadata": {},
   "outputs": [
    {
     "name": "stdout",
     "output_type": "stream",
     "text": [
      "✅ Split erfolgreich: Bilder sind jetzt unter data_split/train und data_split/test\n"
     ]
    }
   ],
   "source": [
    "# Eingangsverzeichnis mit Bildern in Klassenordnern\n",
    "original_data_dir = Path(\"data_preprocessed\")\n",
    "output_base_dir = Path(\"data_split\")\n",
    "\n",
    "# Split-Verhältnis\n",
    "train_ratio = 0.75\n",
    "\n",
    "# Erstelle Zielverzeichnisse\n",
    "for split in [\"train\", \"test\"]:\n",
    "    for class_name in os.listdir(original_data_dir):\n",
    "        split_path = output_base_dir / split / class_name\n",
    "        split_path.mkdir(parents=True, exist_ok=True)\n",
    "\n",
    "# Unterstützte Bild-Endungen\n",
    "valid_exts = [\".jpg\", \".jpeg\", \".png\"]\n",
    "\n",
    "# Gehe jede Klasse durch und verteile zufällig auf train/test\n",
    "for class_name in os.listdir(original_data_dir):\n",
    "    class_dir = original_data_dir / class_name\n",
    "    if not class_dir.is_dir():\n",
    "        continue  # Sicherheitshalber skippen, falls da keine Klasse ist\n",
    "\n",
    "    # Nur Bilddateien einsammeln\n",
    "    images = [f for f in class_dir.glob(\"*\") if f.suffix.lower() in valid_exts]\n",
    "    random.shuffle(images)\n",
    "\n",
    "    split_index = int(len(images) * train_ratio)\n",
    "    train_images = images[:split_index]\n",
    "    test_images = images[split_index:]\n",
    "\n",
    "    for img_path in train_images:\n",
    "        shutil.copy(img_path, output_base_dir / \"train\" / class_name / img_path.name)\n",
    "    for img_path in test_images:\n",
    "        shutil.copy(img_path, output_base_dir / \"test\" / class_name / img_path.name)\n",
    "\n",
    "print(\"✅ Split erfolgreich: Bilder sind jetzt unter data_split/train und data_split/test\")"
   ]
  }
 ],
 "metadata": {
  "kernelspec": {
   "display_name": "Python 3 (ipykernel)",
   "language": "python",
   "name": "python3"
  },
  "language_info": {
   "codemirror_mode": {
    "name": "ipython",
    "version": 3
   },
   "file_extension": ".py",
   "mimetype": "text/x-python",
   "name": "python",
   "nbconvert_exporter": "python",
   "pygments_lexer": "ipython3",
   "version": "3.12.3"
  }
 },
 "nbformat": 4,
 "nbformat_minor": 5
}
