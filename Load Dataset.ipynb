{
 "cells": [
  {
   "cell_type": "markdown",
   "id": "ed628626-8b3e-453f-9824-bfd98bd5fe7f",
   "metadata": {},
   "source": [
    "### Load Data"
   ]
  },
  {
   "cell_type": "code",
   "execution_count": 6,
   "id": "e0b77fc4-282f-40cd-92a8-baea26d66e41",
   "metadata": {},
   "outputs": [],
   "source": [
    "import fiftyone as fo\n",
    "from fiftyone import ViewField as F\n",
    "\n",
    "my_classes = [\"Burrito\", \"Hot dog\", \"Muffin\"]\n",
    "export_dir = \"data\""
   ]
  },
  {
   "cell_type": "code",
   "execution_count": 7,
   "id": "6c16d335-c90a-4606-9313-4e1463956a65",
   "metadata": {},
   "outputs": [
    {
     "name": "stdout",
     "output_type": "stream",
     "text": [
      "Downloading split 'train' to '/Users/constantin/fiftyone/open-images-v7/train' if necessary\n",
      "Found 100 images, downloading the remaining 1400\n",
      " 100% |█████████████████| 1400/1400 [6.0m elapsed, 0s remaining, 5.3 files/s]       \n",
      "Dataset info written to '/Users/constantin/fiftyone/open-images-v7/info.json'\n",
      "Loading 'open-images-v7' split 'train'\n",
      " 100% |███████████████| 1500/1500 [4.2s elapsed, 0s remaining, 368.5 samples/s]      \n",
      "Dataset 'open-images-v7-train-1500' created\n"
     ]
    }
   ],
   "source": [
    "dataset = fo.zoo.load_zoo_dataset(\n",
    "    \"open-images-v7\",\n",
    "    split=\"train\",\n",
    "    label_types=[\"detections\"],\n",
    "    classes=my_classes,\n",
    "    max_samples=1500,\n",
    "    shuffle=True\n",
    ")"
   ]
  },
  {
   "cell_type": "code",
   "execution_count": 8,
   "id": "7b3d4755-2141-41f7-b952-606b551ab164",
   "metadata": {},
   "outputs": [],
   "source": [
    "dataset = dataset.filter_labels(\"ground_truth\", F(\"label\").is_in(my_classes))\n",
    "dataset = dataset.match(F(\"ground_truth.detections\").length() > 0)"
   ]
  },
  {
   "cell_type": "code",
   "execution_count": 9,
   "id": "b4458d57-83d3-4584-b38b-59b4999ca33a",
   "metadata": {},
   "outputs": [
    {
     "name": "stdout",
     "output_type": "stream",
     "text": [
      "Detected an image classification exporter and a label field 'ground_truth' of type <class 'fiftyone.core.labels.Detection'>. Exporting image patches...\n",
      " 100% |███████████████| 4294/4294 [29.0s elapsed, 0s remaining, 149.0 samples/s]      \n"
     ]
    }
   ],
   "source": [
    "patches = dataset.to_patches(\"ground_truth\")\n",
    "patches.export(\n",
    "    export_dir=export_dir,\n",
    "    dataset_type=fo.types.ImageClassificationDirectoryTree,\n",
    "    label_field=\"ground_truth\",\n",
    ")"
   ]
  },
  {
   "cell_type": "markdown",
   "id": "1aa05635-ea1f-42d8-bfcc-8ae16eae4428",
   "metadata": {},
   "source": [
    "### Data Exploration"
   ]
  },
  {
   "cell_type": "code",
   "execution_count": 2,
   "id": "bd64c42d-ab7c-4605-83c2-a5096a06cb1a",
   "metadata": {},
   "outputs": [],
   "source": [
    "import os\n",
    "import matplotlib.pyplot as plt\n",
    "import tensorflow as tf\n",
    "from tensorflow.keras.preprocessing import image_dataset_from_directory\n",
    "\n",
    "data_dir = \"data\""
   ]
  },
  {
   "cell_type": "code",
   "execution_count": 3,
   "id": "1713899a-9956-4730-b4a3-edcfcd5d4fab",
   "metadata": {},
   "outputs": [
    {
     "name": "stdout",
     "output_type": "stream",
     "text": [
      "Burrito: 204 Bilder\n",
      "Muffin: 3705 Bilder\n",
      "Hot dog: 388 Bilder\n"
     ]
    }
   ],
   "source": [
    "# Klassen & Anzahl Bilder pro Klasse\n",
    "class_counts = {class_name: len(os.listdir(os.path.join(data_dir, class_name)))\n",
    "                for class_name in os.listdir(data_dir)}\n",
    "\n",
    "for cls, count in class_counts.items():\n",
    "    print(f\"{cls}: {count} Bilder\")"
   ]
  },
  {
   "cell_type": "code",
   "execution_count": null,
   "id": "422c47eb-3f9f-45ff-93a2-56aab72cff6a",
   "metadata": {},
   "outputs": [],
   "source": [
    "import random\n",
    "from PIL import Image\n",
    "\n",
    "def show_random_images(data_dir, classes, n=3):\n",
    "    plt.figure(figsize=(n * 3, len(classes) * 3))\n",
    "    for i, class_name in enumerate(classes):\n",
    "        class_path = os.path.join(data_dir, class_name)\n",
    "        images = os.listdir(class_path)\n",
    "        samples = random.sample(images, min(n, len(images)))\n",
    "        for j, img_file in enumerate(samples):\n",
    "            img_path = os.path.join(class_path, img_file)\n",
    "            img = Image.open(img_path)\n",
    "            plt.subplot(len(classes), n, i * n + j + 1)\n",
    "            plt.imshow(img)\n",
    "            plt.axis(\"off\")\n",
    "            plt.title(class_name)\n",
    "    plt.tight_layout()\n",
    "    plt.show()\n",
    "\n",
    "show_random_images(data_dir, list(class_counts.keys()), n=3)"
   ]
  }
 ],
 "metadata": {
  "kernelspec": {
   "display_name": "Python 3 (ipykernel)",
   "language": "python",
   "name": "python3"
  },
  "language_info": {
   "codemirror_mode": {
    "name": "ipython",
    "version": 3
   },
   "file_extension": ".py",
   "mimetype": "text/x-python",
   "name": "python",
   "nbconvert_exporter": "python",
   "pygments_lexer": "ipython3",
   "version": "3.10.13"
  }
 },
 "nbformat": 4,
 "nbformat_minor": 5
}
