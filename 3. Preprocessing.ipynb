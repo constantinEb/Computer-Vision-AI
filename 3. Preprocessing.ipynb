{
 "cells": [
  {
   "cell_type": "markdown",
   "id": "fc3f5005-044f-4f6e-bbad-1456f48d9c2c",
   "metadata": {},
   "source": [
    "### 3. Preprocessing"
   ]
  },
  {
   "cell_type": "code",
   "execution_count": 1,
   "id": "97454371-f983-4800-8c67-000e414feb11",
   "metadata": {},
   "outputs": [],
   "source": [
    "from PIL import Image\n",
    "import os\n",
    "from pathlib import Path"
   ]
  },
  {
   "cell_type": "code",
   "execution_count": 3,
   "id": "4d99c47b-c073-4b97-a3bc-2cea981cc211",
   "metadata": {},
   "outputs": [
    {
     "name": "stdout",
     "output_type": "stream",
     "text": [
      "⚠️ Fehler bei data/Burrito/.ipynb_checkpoints: [Errno 21] Is a directory: 'data/Burrito/.ipynb_checkpoints'\n",
      "⚠️ Fehler bei data/Muffin/.ipynb_checkpoints: [Errno 21] Is a directory: 'data/Muffin/.ipynb_checkpoints'\n",
      "⚠️ Fehler bei data/Hot dog/.ipynb_checkpoints: [Errno 21] Is a directory: 'data/Hot dog/.ipynb_checkpoints'\n"
     ]
    }
   ],
   "source": [
    "input_dir = Path(\"data\")\n",
    "output_dir = Path(\"data_preprocessed\")\n",
    "target_size = (224, 224)\n",
    "\n",
    "for class_name in os.listdir(input_dir):\n",
    "    class_input_path = input_dir / class_name\n",
    "    class_output_path = output_dir / class_name\n",
    "    class_output_path.mkdir(parents=True, exist_ok=True)\n",
    "\n",
    "    for file_name in os.listdir(class_input_path):\n",
    "        input_file = class_input_path / file_name\n",
    "        output_file = class_output_path / file_name\n",
    "\n",
    "        try:\n",
    "            with Image.open(input_file) as img:\n",
    "                img = img.convert(\"RGB\")  # falls PNG mit Transparenz\n",
    "                img = img.resize(target_size, Image.Resampling.LANCZOS)\n",
    "                img.save(output_file)\n",
    "        except Exception as e:\n",
    "            print(f\"Fehler bei {input_file}: {e}\")"
   ]
  }
 ],
 "metadata": {
  "kernelspec": {
   "display_name": "Python 3 (ipykernel)",
   "language": "python",
   "name": "python3"
  },
  "language_info": {
   "codemirror_mode": {
    "name": "ipython",
    "version": 3
   },
   "file_extension": ".py",
   "mimetype": "text/x-python",
   "name": "python",
   "nbconvert_exporter": "python",
   "pygments_lexer": "ipython3",
   "version": "3.10.13"
  }
 },
 "nbformat": 4,
 "nbformat_minor": 5
}
