{
 "cells": [
  {
   "cell_type": "markdown",
   "id": "fc3f5005-044f-4f6e-bbad-1456f48d9c2c",
   "metadata": {},
   "source": [
    "### 3. Preprocessing"
   ]
  },
  {
   "cell_type": "code",
   "execution_count": 4,
   "id": "97454371-f983-4800-8c67-000e414feb11",
   "metadata": {},
   "outputs": [],
   "source": [
    "from PIL import Image\n",
    "import os\n",
    "import shutil\n",
    "import random\n",
    "from pathlib import Path"
   ]
  },
  {
   "cell_type": "code",
   "execution_count": 3,
   "id": "4d99c47b-c073-4b97-a3bc-2cea981cc211",
   "metadata": {},
   "outputs": [
    {
     "name": "stdout",
     "output_type": "stream",
     "text": [
      "⚠️ Fehler bei data/Burrito/.ipynb_checkpoints: [Errno 21] Is a directory: 'data/Burrito/.ipynb_checkpoints'\n",
      "⚠️ Fehler bei data/Muffin/.ipynb_checkpoints: [Errno 21] Is a directory: 'data/Muffin/.ipynb_checkpoints'\n",
      "⚠️ Fehler bei data/Hot dog/.ipynb_checkpoints: [Errno 21] Is a directory: 'data/Hot dog/.ipynb_checkpoints'\n"
     ]
    }
   ],
   "source": [
    "input_dir = Path(\"data\")\n",
    "output_dir = Path(\"data_preprocessed\")\n",
    "target_size = (224, 224)\n",
    "\n",
    "for class_name in os.listdir(input_dir):\n",
    "    class_input_path = input_dir / class_name\n",
    "    class_output_path = output_dir / class_name\n",
    "    class_output_path.mkdir(parents=True, exist_ok=True)\n",
    "\n",
    "    for file_name in os.listdir(class_input_path):\n",
    "        input_file = class_input_path / file_name\n",
    "        output_file = class_output_path / file_name\n",
    "\n",
    "        try:\n",
    "            with Image.open(input_file) as img:\n",
    "                img = img.convert(\"RGB\")  # falls PNG mit Transparenz\n",
    "                img = img.resize(target_size, Image.Resampling.LANCZOS)\n",
    "                img.save(output_file)\n",
    "        except Exception as e:\n",
    "            print(f\"Fehler bei {input_file}: {e}\")"
   ]
  },
  {
   "cell_type": "code",
   "execution_count": 5,
   "id": "83590fcc-f2a7-4777-822d-6d0c7776cc19",
   "metadata": {},
   "outputs": [],
   "source": [
    "def balance_by_oversampling(input_dir, output_dir):\n",
    "    os.makedirs(output_dir, exist_ok=True)\n",
    "    class_paths = {cls: list(Path(input_dir, cls).glob(\"*.jpg\")) for cls in os.listdir(input_dir)}\n",
    "    \n",
    "    # Zielgröße: so viele Bilder wie die größte Klasse\n",
    "    max_len = max(len(paths) for paths in class_paths.values())\n",
    "    \n",
    "    for cls, paths in class_paths.items():\n",
    "        target_dir = Path(output_dir, cls)\n",
    "        target_dir.mkdir(parents=True, exist_ok=True)\n",
    "        \n",
    "        copies_needed = max_len - len(paths)\n",
    "        all_images = paths.copy()\n",
    "        \n",
    "        # Einfach random duplizieren\n",
    "        for i in range(copies_needed):\n",
    "            src = random.choice(paths)\n",
    "            dst = target_dir / f\"aug_{i}_{src.name}\"\n",
    "            shutil.copy(src, dst)\n",
    "        \n",
    "        # Originalbilder auch reinlegen\n",
    "        for src in all_images:\n",
    "            shutil.copy(src, target_dir / src.name)"
   ]
  },
  {
   "cell_type": "code",
   "execution_count": 7,
   "id": "c7d10913-3c88-4029-9f5d-60b8dc652a2e",
   "metadata": {},
   "outputs": [],
   "source": [
    "balance_by_oversampling(\"data_split/train\", \"data_split/train_balanced\")"
   ]
  },
  {
   "cell_type": "code",
   "execution_count": null,
   "id": "83e41b9a-a907-4f11-b6ad-0016e45dbfbb",
   "metadata": {},
   "outputs": [],
   "source": []
  }
 ],
 "metadata": {
  "kernelspec": {
   "display_name": "Python 3 (ipykernel)",
   "language": "python",
   "name": "python3"
  },
  "language_info": {
   "codemirror_mode": {
    "name": "ipython",
    "version": 3
   },
   "file_extension": ".py",
   "mimetype": "text/x-python",
   "name": "python",
   "nbconvert_exporter": "python",
   "pygments_lexer": "ipython3",
   "version": "3.12.3"
  }
 },
 "nbformat": 4,
 "nbformat_minor": 5
}
