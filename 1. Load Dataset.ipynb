{
 "cells": [
  {
   "cell_type": "markdown",
   "id": "ed628626-8b3e-453f-9824-bfd98bd5fe7f",
   "metadata": {},
   "source": [
    "### 1. Load Data"
   ]
  },
  {
   "cell_type": "markdown",
   "id": "36f9ab07-3ea2-4969-83a3-ddcabe275c1f",
   "metadata": {},
   "source": [
    "Only run when dataset is not already loaded and stored in /data"
   ]
  },
  {
   "cell_type": "code",
   "execution_count": 6,
   "id": "e0b77fc4-282f-40cd-92a8-baea26d66e41",
   "metadata": {},
   "outputs": [],
   "source": [
    "import fiftyone as fo\n",
    "from fiftyone import ViewField as F\n",
    "\n",
    "my_classes = [\"Burrito\", \"Hot dog\", \"Muffin\"]\n",
    "export_dir = \"data\""
   ]
  },
  {
   "cell_type": "code",
   "execution_count": 7,
   "id": "6c16d335-c90a-4606-9313-4e1463956a65",
   "metadata": {},
   "outputs": [
    {
     "name": "stdout",
     "output_type": "stream",
     "text": [
      "Downloading split 'train' to '/Users/constantin/fiftyone/open-images-v7/train' if necessary\n",
      "Found 100 images, downloading the remaining 1400\n",
      " 100% |█████████████████| 1400/1400 [6.0m elapsed, 0s remaining, 5.3 files/s]       \n",
      "Dataset info written to '/Users/constantin/fiftyone/open-images-v7/info.json'\n",
      "Loading 'open-images-v7' split 'train'\n",
      " 100% |███████████████| 1500/1500 [4.2s elapsed, 0s remaining, 368.5 samples/s]      \n",
      "Dataset 'open-images-v7-train-1500' created\n"
     ]
    }
   ],
   "source": [
    "dataset = fo.zoo.load_zoo_dataset(\n",
    "    \"open-images-v7\",\n",
    "    split=\"train\",\n",
    "    label_types=[\"detections\"],\n",
    "    classes=my_classes,\n",
    "    max_samples=1500, # adjust for more images\n",
    "    shuffle=True\n",
    ")"
   ]
  },
  {
   "cell_type": "code",
   "execution_count": 8,
   "id": "7b3d4755-2141-41f7-b952-606b551ab164",
   "metadata": {},
   "outputs": [],
   "source": [
    "dataset = dataset.filter_labels(\"ground_truth\", F(\"label\").is_in(my_classes))\n",
    "dataset = dataset.match(F(\"ground_truth.detections\").length() > 0)"
   ]
  },
  {
   "cell_type": "code",
   "execution_count": 9,
   "id": "b4458d57-83d3-4584-b38b-59b4999ca33a",
   "metadata": {},
   "outputs": [
    {
     "name": "stdout",
     "output_type": "stream",
     "text": [
      "Detected an image classification exporter and a label field 'ground_truth' of type <class 'fiftyone.core.labels.Detection'>. Exporting image patches...\n",
      " 100% |███████████████| 4294/4294 [29.0s elapsed, 0s remaining, 149.0 samples/s]      \n"
     ]
    }
   ],
   "source": [
    "patches = dataset.to_patches(\"ground_truth\")\n",
    "patches.export(\n",
    "    export_dir=export_dir,\n",
    "    dataset_type=fo.types.ImageClassificationDirectoryTree,\n",
    "    label_field=\"ground_truth\",\n",
    ")"
   ]
  }
 ],
 "metadata": {
  "kernelspec": {
   "display_name": "Python 3 (ipykernel)",
   "language": "python",
   "name": "python3"
  },
  "language_info": {
   "codemirror_mode": {
    "name": "ipython",
    "version": 3
   },
   "file_extension": ".py",
   "mimetype": "text/x-python",
   "name": "python",
   "nbconvert_exporter": "python",
   "pygments_lexer": "ipython3",
   "version": "3.10.13"
  }
 },
 "nbformat": 4,
 "nbformat_minor": 5
}
